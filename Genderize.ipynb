{
  "nbformat": 4,
  "nbformat_minor": 0,
  "metadata": {
    "colab": {
      "provenance": [],
      "authorship_tag": "ABX9TyOlMQYntpUSZ2J91R5ZMwuA"
    },
    "kernelspec": {
      "name": "python3",
      "display_name": "Python 3"
    },
    "language_info": {
      "name": "python"
    }
  },
  "cells": [
    {
      "cell_type": "code",
      "source": [
        "!pip install pymorphy2\n"
      ],
      "metadata": {
        "colab": {
          "base_uri": "https://localhost:8080/"
        },
        "id": "xPy1d3Jvuu_f",
        "outputId": "fbab610a-893c-48e5-96fb-2614a54ddd14"
      },
      "execution_count": 10,
      "outputs": [
        {
          "output_type": "stream",
          "name": "stdout",
          "text": [
            "Looking in indexes: https://pypi.org/simple, https://us-python.pkg.dev/colab-wheels/public/simple/\n",
            "Collecting pymorphy2\n",
            "  Downloading pymorphy2-0.9.1-py3-none-any.whl (55 kB)\n",
            "\u001b[?25l     \u001b[90m━━━━━━━━━━━━━━━━━━━━━━━━━━━━━━━━━━━━━━━━\u001b[0m \u001b[32m0.0/55.5 KB\u001b[0m \u001b[31m?\u001b[0m eta \u001b[36m-:--:--\u001b[0m\r\u001b[2K     \u001b[90m━━━━━━━━━━━━━━━━━━━━━━━━━━━━━━━━━━━━━━━━\u001b[0m \u001b[32m55.5/55.5 KB\u001b[0m \u001b[31m2.9 MB/s\u001b[0m eta \u001b[36m0:00:00\u001b[0m\n",
            "\u001b[?25hCollecting docopt>=0.6\n",
            "  Downloading docopt-0.6.2.tar.gz (25 kB)\n",
            "  Preparing metadata (setup.py) ... \u001b[?25l\u001b[?25hdone\n",
            "Collecting pymorphy2-dicts-ru<3.0,>=2.4\n",
            "  Downloading pymorphy2_dicts_ru-2.4.417127.4579844-py2.py3-none-any.whl (8.2 MB)\n",
            "\u001b[2K     \u001b[90m━━━━━━━━━━━━━━━━━━━━━━━━━━━━━━━━━━━━━━━━\u001b[0m \u001b[32m8.2/8.2 MB\u001b[0m \u001b[31m71.2 MB/s\u001b[0m eta \u001b[36m0:00:00\u001b[0m\n",
            "\u001b[?25hCollecting dawg-python>=0.7.1\n",
            "  Downloading DAWG_Python-0.7.2-py2.py3-none-any.whl (11 kB)\n",
            "Building wheels for collected packages: docopt\n",
            "  Building wheel for docopt (setup.py) ... \u001b[?25l\u001b[?25hdone\n",
            "  Created wheel for docopt: filename=docopt-0.6.2-py2.py3-none-any.whl size=13721 sha256=9acebebb71f10fd74845d8299c7893690dcd112e4c8079decc335bfc8e715f89\n",
            "  Stored in directory: /root/.cache/pip/wheels/70/4a/46/1309fc853b8d395e60bafaf1b6df7845bdd82c95fd59dd8d2b\n",
            "Successfully built docopt\n",
            "Installing collected packages: pymorphy2-dicts-ru, docopt, dawg-python, pymorphy2\n",
            "Successfully installed dawg-python-0.7.2 docopt-0.6.2 pymorphy2-0.9.1 pymorphy2-dicts-ru-2.4.417127.4579844\n"
          ]
        }
      ]
    },
    {
      "cell_type": "code",
      "source": [
        "from bs4 import BeautifulSoup \n",
        "import requests\n",
        "import urllib.request\n",
        "import re\n",
        "import numpy as np\n",
        "import pymorphy2\n",
        "from collections import Counter\n",
        "import nltk \n",
        "nltk.download(\"punkt\")"
      ],
      "metadata": {
        "id": "17KDhmN31C_j"
      },
      "execution_count": 11,
      "outputs": []
    },
    {
      "cell_type": "code",
      "execution_count": 1,
      "metadata": {
        "id": "13bwJM3Lyj7m"
      },
      "outputs": [],
      "source": [
        "MALE = 'male'\n",
        "FEMALE = 'female'\n",
        "BOTH = 'both'\n",
        "UNKNOWN = 'unknown' "
      ]
    },
    {
      "cell_type": "code",
      "source": [
        "MALE_WORDS = set(['guy','spokesman','chairman',\"men's\",'men','him',\"he's\",'his',\n",
        "'boy','boyfriend','boyfriends','boys','brother','brothers','dad',\n",
        "'dads','dude','father','fathers','fiance','gentleman','gentlemen',\n",
        "'god','grandfather','grandpa','grandson','groom','he','himself',\n",
        "'husband','husbands','king','male','man','mr','nephew','nephews',\n",
        "'priest','prince','son','sons','uncle','uncles','waiter','widower',\n",
        "'widowers'])"
      ],
      "metadata": {
        "id": "z6B9yLujzF0D"
      },
      "execution_count": 2,
      "outputs": []
    },
    {
      "cell_type": "code",
      "source": [
        "FEMALE_WORDS = set(['heroine','spokeswoman','chairwoman',\"women's\",'actress','women',\n",
        "\"she's\",'her','aunt','aunts','bride','daughter','daughters','female', 'fiancee','girl','girlfriend','girlfriends','girls','goddess',\n",
        "'granddaughter','grandma','grandmother','herself','ladies',\n",
        "'lady','mom','moms','mother','mothers','mrs','ms','niece','nieces',\n",
        "'priestess','princess','queens','she','sister','sisters','waitress',\n",
        "'widow','widows','wife','wives','woman'])"
      ],
      "metadata": {
        "id": "oaAlyINIzwNf"
      },
      "execution_count": 3,
      "outputs": []
    },
    {
      "cell_type": "code",
      "source": [
        "def genderize(words):\n",
        "\n",
        "  mwlen = len(MALE_WORDS.intersection(words))\n",
        "  fwlen = len(FEMALE_WORDS.intersection(words))\n",
        "\n",
        "  if mwlen > 0 and fwlen == 0:\n",
        "    return MALE\n",
        "  elif fwlen > 0 and mwlen == 0:\n",
        "    return FEMALE\n",
        "  elif mwlen > 0 and fwlen > 0:\n",
        "    return BOTH\n",
        "  else:\n",
        "    return UNKNOWN"
      ],
      "metadata": {
        "id": "xNCt2IAf0KcX"
      },
      "execution_count": 4,
      "outputs": []
    },
    {
      "cell_type": "code",
      "source": [
        "def count_gender(sentences):\n",
        "\n",
        "  sents = Counter()\n",
        "  words = Counter()\n",
        "\n",
        "  for sentence in sentences:\n",
        "    gender = genderize(sentence)\n",
        "    sents[gender] += 1\n",
        "    words[gender] += len(sentence)\n",
        "\n",
        "  return sents, words"
      ],
      "metadata": {
        "id": "QWRgOP_v3jAD"
      },
      "execution_count": 6,
      "outputs": []
    },
    {
      "cell_type": "code",
      "source": [
        "def parse_gender(d1):\n",
        "\n",
        "  sentences = [\n",
        "      [word.lower() for word in nltk.word_tokenize(sentence)]\n",
        "      for sentence in nltk.sent_tokenize(d1)\n",
        "  ]\n",
        "\n",
        "  sents, words = count_gender(sentences)\n",
        "  total = sum(words.values())\n",
        "\n",
        "  for gender, count in words.items():\n",
        "    pcent = (count / total) * 100\n",
        "    nsents = sents[gender]\n",
        "\n",
        "    print(\n",
        "        \"{} {} ({} sentences)\".format(pcent, gender, nsents)\n",
        "    )"
      ],
      "metadata": {
        "id": "BF9f_qvRHYor"
      },
      "execution_count": 38,
      "outputs": []
    },
    {
      "cell_type": "code",
      "source": [
        "morph = pymorphy2.MorphAnalyzer()"
      ],
      "metadata": {
        "id": "BGBAtcZt0JhV"
      },
      "execution_count": 12,
      "outputs": []
    },
    {
      "cell_type": "code",
      "source": [
        "def get_html_statistic(url):\n",
        "\n",
        "  html = urllib.request.urlopen(url)\n",
        "  htmlParse = BeautifulSoup(html, 'html.parser')\n",
        "\n",
        "  n = 0\n",
        "  d = dict()\n",
        "\n",
        "  d = htmlParse.get_text('\\n', strip = 'True')\n",
        "\n",
        "  d = re.sub(r'[;,\\s]',' ', d)\n",
        "  # d.get_text()\n",
        "\n",
        "  # for line in htmlParse.find_all(\"p\"):\n",
        "  #   # print(line)\n",
        "  #   for el in line.get_text():\n",
        "  #     n += 1\n",
        "  #     d[el] = d.get(el,0) + 1\n",
        "    # .split(r'\\W+', line.get_text().lower()):\n",
        "    #   # print (el)\n",
        "    #   n += 1\n",
        "    #   d[el] = d.get(el,0)+1\n",
        "  \n",
        "      # print (el)\n",
        "      # re.split('\\n+',line.get_text().lower())\n",
        "      # if len(el) > 2:\n",
        "      #   n += 1\n",
        "      #   norm_el = morph.parse(el)[0].normal_form\n",
        "      #   d[norm_el] = d.get(norm_el,0) + 1\n",
        "      \n",
        "\n",
        "  return d"
      ],
      "metadata": {
        "id": "XG5e55KL-xVk"
      },
      "execution_count": 13,
      "outputs": []
    },
    {
      "cell_type": "code",
      "source": [
        "d1 = get_html_statistic('https://en.wikipedia.org/wiki/Femininity')\n",
        "d1"
      ],
      "metadata": {
        "colab": {
          "base_uri": "https://localhost:8080/",
          "height": 109
        },
        "id": "MGgPw7amQP77",
        "outputId": "0a745fbf-1380-4fb8-c31b-416b8a9948dd"
      },
      "execution_count": 57,
      "outputs": [
        {
          "output_type": "execute_result",
          "data": {
            "text/plain": [
              "'Femininity - Wikipedia Jump to content Toggle sidebar Search Create account Log in Personal tools Create account Log in Pages for logged out editors learn more Contributions Talk Navigation Main page Contents Current events Random article About Wikipedia Contact us Donate Contribute Help Learn to edit Community portal Recent changes Upload file Tools What links here Related changes Upload file Special pages Permanent link Page information Cite this page Wikidata item Print/export Download as PDF Printable version In other projects Wikimedia Commons Wikiquote Languages On this Wikipedia the language links are at the top of the page across from the article title. Go to top . Contents move to sidebar hide (Top) 1 Overview and history 2 Behavior and personality 3 Clothing and appearance Toggle Clothing and appearance subsection 3.1 In history 3.2 Body alteration 4 Traditional roles Toggle Traditional roles subsection 4.1 Explanations for occupational imbalance 4.1.1 Role congruity theory 5 Religion and politics Toggle Religion and politics subsection 5.1 Asian religions 5.2 Abrahamic theology 5.3 Communism 6 In men 7 Feminist views Toggle Feminist views subsection 7.1 Julia Serano\\'s transfeminist critique 8 See also 9 References 10 External links Toggle the table of contents Toggle the table of contents Femininity 50 languages العربية বাংলা Bân-lâm-gú Bikol Central Català Čeština Cymraeg Dansk Deutsch Ελληνικά Español Esperanto Euskara فارسی Français Frysk Galego 한국어 Հայերեն Bahasa Indonesia Italiano עברית Jawa Lietuvių Lingála Македонски Bahasa Melayu Nederlands नेपाल भाषा 日本語 Oʻzbekcha / ўзбекча Polski Português Română Русский سرائیکی Simple English کوردی Српски / srpski Suomi Svenska Tagalog தமிழ் ไทย Türkçe Українська اردو Tiếng Việt 粵語 中文 Edit links Article Talk English Read Edit View history More Read Edit View history From Wikipedia  the free encyclopedia This is the latest accepted revision   reviewed on 12 February 2023 . \"Feminine\" redirects here. For other uses  see Feminine (disambiguation) . Attributes associated with women Venus with a Mirror ( c. 1555) by Titian   showing the goddess Venus as the personification of femininity. Femininity (also called womanliness ) is a set of attributes  behaviors  and roles generally associated with women and girls . Femininity can be understood as socially constructed   [1] [2] and there is also some evidence that some behaviors considered feminine are influenced by both cultural factors and biological factors. [1] [3] [4] [5] To what extent femininity is biologically or socially influenced is subject to debate. [3] [4] [5] It is conceptually distinct from both the female biological sex and from womanhood  as all humans can exhibit feminine and masculine traits  regardless of sex and gender . [2] Traits traditionally cited as feminine include gracefulness  gentleness   empathy   humility   and sensitivity   though traits associated with femininity vary across societies and individuals  and are influenced by a variety of social and cultural factors. Overview and history [ edit ] The Birth of Venus (1486  Uffizi ) is a classic representation of femininity painted by Sandro Botticelli . [6] [7] Venus was a Roman goddess principally associated with love  beauty and fertility . Despite the terms femininity and masculinity being in common usage  there is little scientific agreement about what femininity and masculinity are. [3] : 5 Among scholars  the concept of femininity has varying meanings. [8] Professor of English Tara Williams has suggested that modern notions of femininity in English-speaking society began during the medieval period at the time of the bubonic plague in the 1300s. [9] Women in the Early Middle Ages were referred to simply within their traditional roles of maiden   wife   or widow . [9] : 4 After the Black Death in England wiped out approximately half the population  traditional gender roles of wife and mother changed  and opportunities opened up for women in society. The words femininity and womanhood are first recorded in Chaucer around 1380. [10] [11] In 1949  French intellectual Simone de Beauvoir wrote that \"no biological  psychological or economic fate determines the figure that the human female presents in society\" and \"one is not born  but rather becomes  a woman\". [12] The idea was picked up in 1959 by Canadian-American sociologist Erving Goffman [13] and in 1990 by American philosopher Judith Butler   [14] who theorized that gender is not fixed or inherent but is rather a socially defined set of practices and traits that have  over time  grown to become labelled as feminine or masculine. [15] Goffman argued that women are socialized to present themselves as \"precious  ornamental and fragile  uninstructed in and ill-suited for anything requiring muscular exertion\" and to project \"shyness  reserve and a display of frailty  fear and incompetence\". [16] Scientific efforts to measure femininity and masculinity were pioneered by psychologists Lewis Terman and Catherine Cox Miles in the 1930s. Their M–F model was adopted by other researchers and psychologists. The model posited that femininity and masculinity were innate and enduring qualities  not easily measured  opposite to one another  and that imbalances between them led to mental disorders. [17] Alongside the women\\'s movement of the 1970s  researchers began to move away from the M–F model  developing an interest in androgyny . [17] The Bem Sex Role Inventory and the Personal Attributes Questionnaire were developed to measure femininity and masculinity on separate scales. Using such tests  researchers found that the two dimensions varied independently of one another  casting doubt on the earlier view of femininity and masculinity as opposing qualities. [17] Second-wave feminists   influenced by de Beauvoir  believed that although biological differences between females and males were innate  the concepts of femininity and masculinity had been culturally constructed  with traits such as passivity and tenderness assigned to women and aggression and intelligence assigned to men. [18] [19] Girls  second-wave feminists said  were then socialized with toys  games  television  and school into conforming to feminine values and behaviors. [18] In her significant 1963 book The Feminine Mystique   American feminist Betty Friedan wrote that the key to women\\'s subjugation lay in the social construction of femininity as childlike  passive  and dependent  [20] and called for a \"drastic reshaping of the cultural image of femininity.\" [21] Behavior and personality [ edit ] See also: Sex differences in psychology   Feminine psychology   and Nature versus nurture Traits such as nurturance  sensitivity  sweetness  [8] supportiveness  [22] [23] gentleness  [23] [24] warmth  [22] [24] passivity  cooperativeness  expressiveness  [17] modesty  humility  empathy  [23] affection  tenderness  [22] and being emotional  kind  helpful  devoted  and understanding [24] have been cited as stereotypically feminine. The defining characteristics of femininity vary between and even within societies. [22] Young Woman Drawing (1801  Metropolitan Museum of Art ) painted by Marie-Denise Villers (possibly a self-portrait)  depicts an independent feminine spirit. [25] The relationship between feminine socialization and heterosexual relationships has been studied by scholars  as femininity is related to women\\'s and girls\\' sexual appeal to men and boys. [8] Femininity is sometimes linked with sexual objectification . [26] [27] Sexual passiveness  or sexual receptivity  is sometimes considered feminine while sexual assertiveness and sexual desire are sometimes considered masculine. [27] Scholars have debated the extent to which gender identity and gender-specific behaviors are due to socialization versus biological factors. [5] : 29 [28] [29] Social and biological influences are thought to be mutually interacting during development. [5] : 29 [4] : 218–225 Studies of prenatal androgen exposure have provided some evidence that femininity and masculinity are partly biologically determined. [3] : 8–9 [4] : 153–154 Other possible biological influences include evolution   genetics   epigenetics   and hormones (both during development and in adulthood). [5] : 29–31 [3] : 7–13 [4] : 153–154 In 1959  researchers such as John Money and Anke Ehrhardt proposed the prenatal hormone theory. Their research argues that sexual organs bathe the embryo with hormones in the womb  resulting in the birth of an individual with a distinctively male or female brain  this was suggested by some to \"predict future behavioral development in a masculine or feminine direction\". [30] This theory  however  has been criticized on theoretical and empirical grounds and remains controversial. [31] [32] In 2005  scientific research investigating sex differences in psychology showed that gender expectations and stereotype threat affect behavior  and a person\\'s gender identity can develop as early as three years of age. [33] Money also argued that gender identity is formed during a child\\'s first three years. [29] People who exhibit a combination of both masculine and feminine characteristics are considered androgynous   and feminist philosophers have argued that gender ambiguity may blur gender classification. [34] [35] Modern conceptualizations of femininity also rely not just upon social constructions  but upon the individualized choices made by women. [36] Philosopher Mary Vetterling-Braggin argues that all characteristics associated with femininity arose from early human sexual encounters which were mainly male-forced and female-unwilling  because of male and female anatomical differences. [37] [ page needed ] Others  such as Carole Pateman   Ria Kloppenborg  and Wouter J. Hanegraaff   argue that the definition of femininity is the result of how females must behave in order to maintain a patriarchal social system . [26] [38] In his 1998 book Masculinity and Femininity: the Taboo Dimension of National Cultures   Dutch psychologist and researcher Geert Hofstede wrote that only behaviors directly connected with procreation can  strictly speaking  be described as feminine or masculine  and yet every society worldwide recognizes many additional behaviors as more suitable to females than males  and vice versa. He describes these as relatively arbitrary choices mediated by cultural norms and traditions  identifying \"masculinity versus femininity\" as one of five basic dimensions in his theory of cultural dimensions . Hofstede describes as feminine behaviors including service  permissiveness  and benevolence  and describes as feminine those countries stressing equality  solidarity  quality of work-life   and the resolution of conflicts by compromise and negotiation. [39] [40] In Carl Jung \\'s school of analytical psychology   the anima and animus are the two primary anthropomorphic archetypes of the unconscious mind. The anima and animus are described by Jung as elements of his theory of the collective unconscious   a domain of the unconscious that transcends the personal psyche. In the unconscious of the male  it finds expression as a feminine inner personality: anima  equivalently  in the unconscious of the female  it is expressed as a masculine inner personality: animus. [41] Clothing and appearance [ edit ] Main articles: Physical attractiveness § Female   and Clothing § Gender differentiation See also: Gendered associations of pink and blue In Western cultures  the ideal of feminine appearance has traditionally included long  flowing hair  clear skin  a narrow waist  and little or no body hair or facial hair. [2] [42] [43] In other cultures  however  some expectations are different. For example  in many parts of the world  underarm hair is not considered unfeminine. [44] Today  the color pink is strongly associated with femininity  whereas in the early 1900s pink was associated with boys and blue with girls. [45] These feminine ideals of beauty have been criticized as restrictive  unhealthy  and even racist. [43] [46] In particular  the prevalence of anorexia and other eating disorders in Western countries has frequently been blamed on the modern feminine ideal of thinness. [47] Muslim woman wearing a headdress (Hijab) In many Muslim countries  women are required to cover their heads with a hijab (veil). It is considered a symbol of feminine modesty and morality. [48] [49] Some  however  see it as a symbol of objectification and oppression. [50] [51] In history [ edit ] In some cultures  cosmetics are associated with femininity Cultural standards vary on what is considered feminine. For example  in 16th century France  high heels were considered a distinctly masculine type of shoe  though they are currently considered feminine. [52] [53] In Ancient Egypt   sheath and beaded net dresses were considered female clothing  while wraparound dresses  perfumes   cosmetics  and elaborate jewelry were worn by both men and women. In Ancient Persia   clothing was generally unisex   though women wore veils and headscarves . Women in Ancient Greece wore himations   and in Ancient Rome women wore the palla   a rectangular mantle  and the maphorion. [54] The typical feminine outfit of aristocratic women of the Renaissance was an undershirt with a gown and a high-waisted overgown  and a plucked forehead and beehive or turban-style hairdo. [54] Body alteration [ edit ] Main article: Body alteration Body alteration is the deliberate altering of the human body for aesthetic or non-medical purpose. [55] One such purpose has been to induce perceived feminine characteristics in women. For centuries in Imperial China   smaller feet were considered to be a more aristocratic characteristic in women. The practice of foot binding was intended to enhance this characteristic  though it made walking difficult and painful. [56] [57] In a few parts of Africa and Asia  neck rings are worn in order to elongate the neck. In these cultures  a long neck characterizes feminine beauty. [58] The Padaung of Burma and Tutsi women of Burundi   for instance  practice this form of body modification. [59] [60] In China until the twentieth century  tiny  bound feet for women were considered aristocratic and feminine The Kayan people of Burma (Myanmar) associate the wearing of neck rings with feminine beauty. [61] Traditional roles [ edit ] Main article: Gender roles Teacher in a classroom in Madagascar (c. 2008). Primary and secondary school teaching is often considered a feminine occupation. Femininity as a social construct relies on a binary gender system that treats men and masculinity as different from  and opposite to  women and femininity. [8] In patriarchal societies  including Western ones  conventional attitudes to femininity contribute to the subordination of women  as women are seen as more compliant  vulnerable  and less prone to violence. [8] Gender stereotypes influence traditional feminine occupations  resulting in microaggression toward women who break traditional gender roles. [62] These stereotypes include that women have a caring nature  have skill at household-related work  have greater manual dexterity than men  are more honest than men  and have a more attractive physical appearance. Occupational roles associated with these stereotypes include: midwife   teacher   accountant   data entry clerk   cashier   salesperson  receptionist   housekeeper   cook   maid   social worker   and nurse . [63] Occupational segregation maintains gender inequality [64] and the gender pay gap . [65] Certain medical specializations  such as surgery and emergency medicine   are dominated by a masculine culture [66] and have a higher salary. [67] [68] Leadership is associated with masculinity in Western culture and women are perceived less favorably as potential leaders. [69] However  some people have argued that feminine-style leadership  which is associated with leadership that focuses on help and cooperation  is advantageous over masculine leadership  which is associated with focusing on tasks and control. [70] Female leaders are more often described by Western media using characteristics associated with femininity  such as emotion. [70] Explanations for occupational imbalance [ edit ] Psychologist Deborah L. Best argues that primary sex characteristics of men and women  such as the ability to bear children  caused a historical sexual division of labor and that gender stereotypes evolved culturally to perpetuate this division. [71] The practice of bearing children tends to interrupt the continuity of employment. According to human capital theory  this retracts from the female investment in higher education and employment training. Richard Anker of the International Labour Office argues human capital theory does not explain the sexual division of labor because many occupations tied to feminine roles  such as administrative assistance  require more knowledge  experience  and continuity of employment than low-skilled masculinized occupations  such as truck driving . Anker argues the feminization of certain occupations limits employment options for women. [63] Role congruity theory [ edit ] Role congruity theory proposes that people tend to view deviations from expected gender roles negatively. It supports the empirical evidence that gender discrimination exists in areas traditionally associated with one gender or the other. It is sometimes used to explain why people have a tendency to evaluate behavior that fulfills the prescriptions of a leader role less favorably when it is enacted by a woman. [72] [73] [74] [75] [76] Religion and politics [ edit ] The Altai consider shamanism a feminine role. [77] Asian religions [ edit ] Shamanism may have originated as early as the Paleolithic period  predating all organized religions. [78] [79] Archeological finds have suggested that the earliest known shamans were female  [80] and contemporary shamanic roles such as the Korean mudang continue to be filled primarily by women. [81] [82] In Hindu traditions  Devi is the female aspect of the divine. Shakti is the divine feminine creative power  the sacred force that moves through the entire universe [83] and the agent of change. She is the female counterpart without whom the male aspect  which represents consciousness or discrimination  remains impotent and void. As the female manifestation of the supreme lord  she is also called Prakriti   the basic nature of intelligence by which the Universe exists and functions. In Hinduism   the universal creative force Yoni is feminine   with inspiration being the life force of creation. Yin and yang In Taoism   the concept of yin represents the primary force of the female half of yin and yang . The yin is also present  to a smaller proportion  in the male half. The yin can be characterized as slow  soft  yielding  diffuse  cold  wet  and passive. [84] Abrahamic theology [ edit ] Holy Wisdom: Hagia Sophia Although the Abrahamic God is typically described in masculine terms—such as father or king —many theologians argue that this is not meant to indicate the gender of God . [85] According to the Catechism of the Catholic Church   God \"is neither man nor woman: he is God\". [86] Several recent writers  such as feminist theologian Sallie McFague   have explored the idea of \"God as mother\"  examining the feminine qualities attributed to God. For example  in the Book of Isaiah   God is compared to a mother comforting her child  while in the Book of Deuteronomy   God is said to have given birth to Israel. [85] The Book of Genesis describes the divine creation of the world out of nothing or ex nihilo . In Wisdom literature and in the wisdom tradition   wisdom is described as feminine. In many books of the Old Testament  including Wisdom and Sirach   wisdom is personified and called she . According to David Winston  because wisdom is God\\'s \"creative agent \" she must be intimately identified with God. [87] The Wisdom of God is feminine in Hebrew : Chokhmah   in Arabic : Hikmah   in Greek : Sophia   and in Latin : Sapientia . In Hebrew   both Shekhinah (the Holy Spirit and divine presence of God) and Ruach HaKodesh (divine inspiration) are feminine. [ citation needed ] In Christian Kabbalah   Chokhmah (wisdom and intuition) is the force in the creative process that God used to create the heavens and the earth. Binah (understanding and perception) is the great mother  the feminine receiver of energy and giver of form. Binah receives the intuitive insight from Chokhmah and dwells on it in the same way that a mother receives the seed from the father  and keeps it within her until it\\'s time to give birth. The intuition  once received and contemplated with perception  leads to the creation of the Universe . [88] Communism [ edit ] Porcelain statue of a woman in communist China - Cat Street Market  Hong Kong Communist revolutionaries initially depicted idealized womanhood as muscular  plainly dressed and strong  [89] with good female communists shown as undertaking hard manual labour  using guns  and eschewing self-adornment. [90] Contemporary Western journalists portrayed communist states as the enemy of traditional femininity  describing women in communist countries as \"mannish\" perversions. [91] [92] In revolutionary China in the 1950s  Western journalists described Chinese women as \"drably dressed  usually in sloppy slacks and without makeup  hair waves or nail polish\" and wrote that \"Glamour was communism\\'s earliest victim in China. You can stroll the cheerless streets of Peking all day  without seeing a skirt or a sign of lipstick  without thrilling to the faintest breath of perfume  without hearing the click of high heels  or catching the glint of legs sheathed in nylon.\" [93] [94] In communist Poland   changing from high heels to worker\\'s boots symbolized women\\'s shift from the bourgeois to socialism .\" [95] Later  the initial state portrayals of idealized femininity as strong and hard-working began to also include more traditional notions such as gentleness  caring and nurturing behaviour  softness  modesty and moral virtue  [89] [96] : 53 requiring good communist women to become \"superheroes who excelled in all spheres\"  including working at jobs not traditionally regarded as feminine in nature. [96] : 55–60 Communist ideology explicitly rejected some aspects of traditional femininity that it viewed as bourgeois and consumerist  such as helplessness  idleness and self-adornment. In Communist countries  some women resented not having access to cosmetics and fashionable clothes. In her 1993 book of essays How We Survived Communism & Even Laughed   Croatian journalist and novelist Slavenka Drakulic wrote about \"a complaint I heard repeatedly from women in Warsaw  Budapest  Prague  Sofia  East Berlin: \\'Look at us – we don\\'t even look like women. There are no deodorants  perfumes  sometimes even no soap or toothpaste. There is no fine underwear  no pantyhose  no nice lingerie[\\']\" [97] : 31 and \"Sometimes I think the real Iron Curtain is made of silky  shiny images of pretty women dressed in wonderful clothes  of pictures from women\\'s magazines ... The images that cross the borders in magazines  movies or videos are therefore more dangerous than any secret weapon  because they make one desire that \\'otherness\\' badly enough to risk one\\'s life trying to escape.\" [97] : 28–9 As communist countries such as Romania and the Soviet Union began to liberalize  their official media began representing women in more conventionally feminine ways compared with the \"rotund farm workers and plain-Jane factory hand\" depictions they had previously been publishing. As perfumes  cosmetics  fashionable clothing  and footwear became available to ordinary women in the Soviet Union  East Germany   Poland  Yugoslavia and Hungary   they began to be presented not as bourgeois frivolities but as signs of socialist modernity. [98] In China  with the economic liberation started by Deng Xiaoping in the 1980s  the state stopped discouraging women from expressing conventional femininity  and gender stereotypes and commercialized sexualization of women which had been suppressed under communist ideology began to rise. [99] In men [ edit ] See also: Effeminacy Flowers and makeup are stereotypically associated with femininity in Western culture. [100] [101] In many cultures  men who display qualities considered feminine are often stigmatized and labeled as weak. [8] Effeminate men are often associated with homosexuality   [102] [103] although femininity is not necessarily related to a man\\'s sexual orientation. [104] Because men are pressured to be masculine and heterosexual  feminine men are assumed to be gay or queer because of how they perform their gender. This assumption limits the way one is allowed to express one\\'s gender and sexuality. [105] [106] Cross-dressing and drag are two public performances of femininity by men that have been popularly known and understood throughout many western cultures. Men who wear clothing associated with femininity are often called cross-dressers. [107] A drag queen is a man who wears flamboyant women\\'s clothing and behaves in an exaggeratedly feminine manner for entertainment purposes. Feminist views [ edit ] Part of a series on Feminism History Feminist history History of feminism Women\\'s history American British Canadian German Waves First Second Third Fourth Timelines Women\\'s suffrage Muslim countries US Other women\\'s rights Women\\'s suffrage by country Austria Australia Canada India Japan Kuwait Liechtenstein New Zealand Spain Civil War Francoist Switzerland United Kingdom Cayman Islands Wales United States states Intersectional variants Fat Lesbian Lesbian of color Radical lesbianism Separatist Sex-positive Lipstick Stiletto Transfeminism Postgenderism Vegetarian ecofeminism Socialist Anarchist Queer Jineology Marxist Critical theory Standpoint Materialist Ecofeminist Postcolonial Global Transnational Xenofeminism Multicultural Africana womanism Black Hip hop Lesbian Ratchet Chicana Lesbian Indigenous Native American Multiracial Romani Womanism Conservative variants Anti-abortion Anti-pornography Equity Eugenic Femonationalism Maternal Postfeminism Neofeminism State Carceral Imperial Embedded Trans-exclusionary Victim White Religious variants Atheist Buddhist Christian Mormon New Womanist Asian Neopagan Dianic Wicca Reclaiming Ecofeminist Hindu Islamic Jewish Orthodox Sikh Movements and ideologies Analytical Anti-fascist Cyberfeminism HCI Networked Ecofeminism Individualist Liberal Difference Cultural Equality Social Labor Libertarian Post-structural French Postmodern Radical Political lesbianism Separatist Women\\'s liberation Technofeminism Concepts Literature Children\\'s literature Discrimination against transgender women Effects on society Equality Female education Female genital mutilation Femicide Feminism in culture Feminist movement African-American women\\'s suffrage movement Art movement In hip hop Feminist stripper Gender equality Girl power Honor killing Internalized sexism International Girl\\'s Day and Women\\'s Day Language reform Male privilege Matriarchal religion Media Men in feminism Misogyny Oedipus complex Opposition to feminism Pro-feminism Protofeminism Purplewashing Reproductive justice Sex workers\\' rights Sexual harassment Sexual objectification Toxic masculinity Transmisogyny Triple oppression Violence against women War on women Women-only space Women\\'s health Women\\'s rights Women in the workforce Outlooks Bicycling and feminism Criticism of marriage Views on BDSM Views on pornography Views on prostitution Views on sexual orientation Views on sexuality Views on transgender topics Theory Feminist method Gender studies Gender mainstreaming Gynocentrism Kyriarchy Male gaze Matriarchy Women\\'s studies Men\\'s studies Patriarchy Écriture féminine Areas of study Anthropology Archaeology Architecture Art Art criticism Literary criticism Film theory Science fiction Biology Composition studies Criminology Pathways perspective Economics FDPA Geography International relations Constructivism Legal theory Pedagogy Philosophy Aesthetics Empiricism Epistemology Ethics Justice ethics Existentialism Metaphysics science Political ecology Political theory Pornography Psychology Therapy Revisionist mythology Sex wars Sexology Sociology Technoscience Theology womanist theology By country Albania Australia Bangladesh Canada China Democratic Republic of the Congo Denmark Egypt Ethiopia Finland France Germany Ghana Greece Hong Kong India Indonesia Iran Iraq Republic of Ireland Israel Italy Japan Latin America Argentina Brazil Chile Haiti Honduras Mexico Paraguay Trinidad and Tobago Lebanon Malaysia Mali Nepal Netherlands New Zealand Nigeria Northern Cyprus Norway Pakistan Philippines Poland Russia Syria Saudi Arabia South Africa South Korea Sweden Taiwan Thailand Turkey Vietnam Ukraine United Kingdom United States History of women Lists and categories Lists Articles Feminists by nationality Literature American feminist literature Feminist comic books Feminist songs Conservative feminisms Ecofeminist authors Feminist art critics Feminist economists Feminist philosophers Feminist poets Feminist rhetoricians Jewish feminists Muslim feminists Feminist parties Suffragists and suffragettes Women\\'s rights activists Women\\'s studies journals Women\\'s suffrage organizations Categories Women\\'s rights by country Feminists by nationality Feminism portal v t e See also: Feminism Feminist philosophers such as Judith Butler and Simone de Beauvoir [108] contend that femininity and masculinity are created through repeated performances of gender  these performances reproduce and define the traditional categories of sex and/or gender. [109] Many second-wave feminists reject what they regard as constricting standards of female beauty  created for the subordination and objectifying of women and self-perpetuated by reproductive competition and women\\'s own aesthetics. [110] Others  such as lipstick feminists and some other third-wave feminists   argue that feminism should not devalue feminine culture and identity  and that symbols of feminine identity such as make-up  suggestive clothing and having a sexual allure can be valid and empowering personal choices for both sexes. [111] [112] Julia Serano notes that masculine girls and women face much less social disapproval than feminine boys and men  which she attributes to sexism. Serano argues that women wanting to be like men is consistent with the idea that maleness is more valued in contemporary culture than femaleness  whereas men being willing to give up masculinity in favour of femininity directly threatens the notion of male superiority as well as the idea that men and women should be opposites. To support her thesis  Serano cites the far greater public scrutiny and disdain experienced by male-to-female cross-dressers compared with that faced by women who dress in masculine clothes  as well as research showing that parents are likelier to respond negatively to sons who like Barbie dolls and ballet or wear nail polish than they are to daughters exhibiting comparably masculine behaviours. [113] : 284–292 Julia Serano\\'s transfeminist critique [ edit ] This section may lend undue weight to certain ideas  incidents  or controversies . Please help improve it by rewriting it in a balanced fashion that contextualizes different points of view. ( July 2022 ) ( Learn how and when to remove this template message ) In her 2007 book Whipping Girl: A Transsexual Woman on Sexism and the Scapegoating of Femininity   American transsexual writer and biologist Julia Serano offers a transfeminist critique of femininity  notable especially for its call to empower femininity: [113] [114] Serano notes that some behaviors  such as frequent smiling or avoiding eye contact with strangers  are considered feminine because they are practised disproportionately by women  and likely have resulted from women\\'s attempts to negotiate through a world which is sometimes hostile to them. [113] : 322 Serano argues that because contemporary culture is sexist  it assigns negative connotations to  or trivializes  behaviours understood to be feminine such as gossiping  behaving emotionally or decorating. It also recasts and reimagines femininity through a male heterosexual lens  for example interpreting women\\'s empathy and altruism as husband-and-child-focused rather than globally focused  and interpreting women\\'s interest in aesthetics as intended solely to entice or attract men. [113] : 327–8 See also [ edit ] Feminine psychology Feminism Feminization (sociology) Effeminacy Gender role Gender studies Marianismo Masculinity Nature versus nurture Sociology of gender Transfeminine References [ edit ] ^ a b Shehan  Constance L. (2018). Gale Researcher Guide for: The Continuing Significance of Gender . Gale  Cengage Learning. pp. 1–5. ISBN 9781535861175 . ^ a b c Ferrante  Joan (January 2010). Sociology: A Global Perspective (7th ed.). Belmont  CA: Thomson Wadsworth. pp. 269–272. ISBN 978-0-8400-3204-1 . ^ a b c d e Martin  Hale  Finn  Stephen E. (2010). Masculinity and Femininity in the MMPI-2 and MMPI-A . University of Minnesota Press. pp. 5–13. ISBN 978-0-8166-2444-7 . ^ a b c d e Lippa  Richard A. (2005). Gender  Nature  and Nurture (2nd ed.). Routledge. pp. 153–154  218–225. ISBN 9781135604257 . ^ a b c d e Wharton  Amy S. (2005). The Sociology of Gender: An Introduction to Theory and Research . John Wiley & Sons. pp. 29–31. ISBN 978-1-40-514343-1 . ^ Manifestations of Venus: art and sexuality pg 93 By Katie Scott  Caroline Arscott pg 93-\"...began its consideration of Venus by describing her as .... who presided over all feminine charms  for...\" ^ The Pacific muse pg 49 By Patty O\\'Brien  \"The young beautiful Venus wringing water from her tresses was a configuration of exotic femininity that was… ^ a b c d e f Windsor  Elroi J. (2015). \"Femininities\".  In Wright  James D. (ed.). International Encyclopedia of the Social & Behavioral Sciences  Volume 8 (2nd ed.). Elsevier. pp. 893–897. doi : 10.1016/B978-0-08-097086-8.35015-2 . ISBN 978-0-08-097087-5 . ^ a b Williams  Tara (2011). Inventing Womanhood: Gender and Language in Later Middle English Writing (PDF) . Ohio State University Press . ISBN 978-0814211519 . Archived from the original (PDF) on November 6  2016 . Retrieved August 14  2013 . ^ \" c1386 CHAUCER Man of Law\\'s T. 262 O serpent under femynynytee.\" . Oxford English Dictionary (Online ed.). Oxford University Press . (Subscription or participating institution membership required.) ^ \" c1374 CHAUCER Troylus I. 283 Alle here lymes so wel answerynge Weren to womanhode.\" . Oxford English Dictionary (Online ed.). Oxford University Press . (Subscription or participating institution membership required.) ^ de Beauvoir  Simone (2010). The Second Sex . New York: Knopf. ISBN 978-0307265562 . ^ Erving Goffman (1959). The Presentation of Self in Everyday Life . Anchor. ISBN 0385094027 . ^ Butler  Judith (1990). Gender Trouble: Feminism and the Subversion of Identity . Routledge. ISBN 0415389550 . ^ Milestone  Katie (2011). Gender and Popular Culture . Polity. ISBN 978-0745643946 . ^ Ziegler  Kathryn A. (2010). \"Formidable-Femininity\": Performing Gender and Third Wave Feminism in a Women\\'s Self-Defense Class . LAP LAMBERT Academic Publishing. p. 10. ISBN 978-3838307671 . ^ a b c d Stets  Jan E.  Burke  Peter J. (2000). \"Femininity/Masculinity\" .  In Borgatta  Edgar F.  Montgomery  Rhonda (eds.). Encyclopedia of Sociology  Volume 2 (2nd ed.). Macmillan Reference USA. pp. 997–1005 . ISBN 0-02-864850-1 . ^ a b Millett  Kate (1968). Sexual Politics . ^ Hollows  Joanne (2000). Feminism  Femininity and Popular Culture . Manchester University Press. pp. 10–12. ISBN 0719043956 . ^ Jaggar  Alison M. (1989). Gender/Body/Knowledge: Feminist Reconstructions of Being and Knowing . Rutgers University Press. pp. 17 . ISBN 0813513790 . ^ Gamble  Sarah (2002). The Routledge Companion to Feminism and Postfeminism . Routledge. pp. 29 . ISBN 0415243106 . ^ a b c d Burke  Peter J.  Stets  Jan E. (2009). Identity Theory . Oxford University Press. p. 63. ISBN 978-0-19-538827-5 . ^ a b c Vetterling-Braggin  Mary  ed. (1982). \\'Femininity \\' \\'Masculinity \\' and \\'Androgyny\\': A Modern Philosophical Discussion . Rowman & Allanheld. p. 5. ISBN 0-8226-0399-3 . ^ a b c Kite  Mary E. (2001). \"Gender Stereotypes\" .  In Worell  Judith (ed.). Encyclopedia of Women and Gender  Volume 1 . Academic Press. p. 563 . ISBN 0-12-227245-5 . ^ [1] The Methodologies of Art: An Introduction (Boulder: Westview Press  1996)  81. Laurie Schneider Adams \"[Young Woman Drawing] \\'suddenly acquired feminine attributes: Its poetry  literary … all seem to reveal the feminine spirit.\" ^ a b Ria Kloppenborg  Wouter J. Hanegraaff  Female stereotypes in religious traditions   BRILL  1995  ISBN 90-04-10290-6   ISBN 978-90-04-10290-3 ^ a b Ussher  Jane M. Fantasies of femininity: reframing the boundaries of sex ^ van den Wijngaard  Marianne (1997). Reinventing the Sexes: The Biomedical Construction of Femininity and Masculinity . Indiana University Press. p. 1. ISBN 0-253-21087-9 . ^ a b Pearson  Judy C.  Cooks  Leda (1995). \"Gender and Power\" .  In Kalbfleisch  Pamela J.  Cody  Michael J. (eds.). Gender  power  and communication in human relationships . Psychology Press. p. 333. ISBN 0-8058-1404-3 . Retrieved June 3  2011 . ^ van den Wijngaard (1997)   p. 5. ^ Ehrhardt  Anke A.  H. F. L. Meyer-Bahlburg (1981). \"Effects of Prenatal Sex Hormones on Gender-Related Behavior\". Science . 211 (4488): 1312–1318. Bibcode : 1981Sci...211.1312E . doi : 10.1126/science.7209510 . PMID 7209510 . ^ Bem  Sandra Lipsitz (1993). The Lenses of Gender: Transforming the Debate on Sexual Inequality . New Haven u.a.: Yale University Press. pp. 25–27 . ISBN 0-300-05676-1 . ^ Ann M. Gallagher  James C. Kaufman  Gender differences in mathematics: an integrative psychological approach  Cambridge University Press  2005  ISBN 0-521-82605-5   ISBN 978-0-521-82605-1 ^ Butler  Judith (1999 [1990])  Gender Trouble: Feminism and the Subversion of Identity (New York and London: Routledge). ^ Laurie  Timothy (2014). \"The ethics of nobody I know: Gender and the politics of description\" . Qualitative Research Journal . 14 : 64–78. doi : 10.1108/QRJ-03-2014-0011 . hdl : 10453/44221 . ^ Budgeon  Shelley(2015)  \\'Individualized femininity and feminist politics of choice..\\'  European Journal of Women\\'s Studies  22 (3)  pp. 303-318. ^ Vetterling-Braggin (1982) . ^ Pateman  Carole (1988). The Sexual Contract   Stanford: Stanford University Press  p. 207. ^ Hofstede  Geert (1998). Masculinity and Femininity: The Taboo Dimension of National Cultures . SAGE Publications  Inc. ISBN 0761910298 . ^ \"National Culture: Dimensions\" . The Hofstede Centre. Archived from the original on August 31  2013 . Retrieved August 14  2013 . The masculinity side of this dimension represents a preference in society for achievement  heroism  assertiveness and material reward for success. Society at large is more competitive. Its opposite  femininity  stands for a preference for cooperation  modesty  caring for the weak and quality of life. Society at large is more consensus-oriented. ^ Jung  Carl. The Psychology of the Unconscious  Dvir Co.  Ltd.  Tel-Aviv  1973 (originally 1917) ^ Lesnik-Oberstein  Karín (2010). The Last Taboo: Women and Body Hair (Paperback ed.). Manchester University Press. ISBN 978-0-7190-8323-5 . ^ a b Davis  Kathy (2003). Dubious Equalities and Embodied Differences: Cultural Studies on Cosmetic Surgery . Lanham: Rowman & Littlefield. p. 93 . ISBN 0-7425-1421-8 . ^ McLoughlin  Linda (2000). The Language of Magazines . London: Routledge. p. 96 . ISBN 0-415-21424-6 . ^ Bolich  G. G. (2007). Conversing on Gender . Gardners Books. p. 315. ISBN 978-0615156705 . ^ Taylor  Verta (2008). Feminist Frontiers (8th ed.). New York: McGraw Hill Higher Education. p. 157. ISBN 978-0-07-340430-1 . ^ Mahowald  Mary Briody (1996). Women and Children in Health Care: An Unequal Majority (New ed.). New York: Oxford University Press. pp. 210–213. ISBN 978-0-19-510870-5 . ^ Daniels  Dayna B. (2009). Polygendered and Ponytailed: The Dilemma of Femininity and the Female Athlete . Toronto: Women\\'s Press. p. 147. ISBN 978-0889614765 . ^ Esposito  John L.  ed. (2003). The Oxford Dictionary of Islam . New York: Oxford University Press. p. 112 . ISBN 0195125584 . ^ \"Wearing the Hijab in Solidarity Perpetuates Oppression\" . www.nytimes.com . ^ \"I didn\\'t want to wear my hijab  and don\\'t believe very young girls should wear them today | Iman Amrani\" . the Guardian . February 2  2018. ^ Brown  William  Art of shoe making   Global Media  2007  8189940295  9788189940294 ^ Kremer  William (January 24  2013). \"Why did men stop wearing high heels?\" . BBC News . Retrieved January 25  2013 . ^ a b Condra  Jill  The Greenwood encyclopedia of clothing through world history: Prehistory to 1500 CE   Greenwood Publishing Group  2008  ISBN 0-313-33663-6   ISBN 978-0-313-33663-8 ^ \"What is body modification?\" . Essortment.com. May 16  1986. Archived from the original on January 28  2016 . Retrieved November 13  2011 . ^ \"Binding: Bone Breaking Beauty  August  2009\" . Cogitz.com. August 29  2009. Archived from the original on July 9  2012 . Retrieved November 13  2011 . ^ \"The Art of Social Change: Campaigns against foot-binding and genital mutilation\" . The New York Times . October 22  2010. ^ Kislenko  Arne. Culture and customs of Thailand. Westport  Conn.: Greenwood Press  2004  ISBN 978-0-313-32128-3 . ^ Thesander  Marianne. The feminine ideal. London: Reaktion Books  1997  ISBN 978-1-86189-004-7 . ^ Walker  Andrew. Bound by tradition. Retrieved on July 25  2011. ^ Keng  Huay Pu. \"Long Neck Ring Wearing\" . www.huaypukeng.com . Retrieved October 22  2017 . ^ Derald  Sue (2010). Microaggressions in everyday life: race  gender  and sexual orientation . US  Canada: John Wiley and Sons. p. 172. ISBN 978-0-470-49140-9 . ^ a b Anker  Richard (2001). Gender and Jobs: Sex Segregation of Occupations in the World (2. impr. with modifications. ed.). Geneva: International Labour Office. pp. 23–30. ISBN 978-92-2-109524-8 . ^ \"Women\\'s Rights Law Reporter\" . Litigation-essentials.lexisnexis.com . Retrieved November 13  2011 . ^ Beckford  Martin (August 11  2009). \"More British women in \\'high status\\' professions than men  finds study\" . The Daily Telegraph . UK. Archived from the original on January 12  2022 . Retrieved November 13  2011 . ^ Boulis  Ann K.  Jacobs  Jerry A. (2010). The Changing Face of Medicine: Women Doctors and the Evolution of Health Care in America . Ithaca  N.Y.: ILR. pp. 94–98. ISBN 978-0-8014-7662-4 . ^ \"Annual Survey of Hours and Earnings  2012 Provisional Results\" . UK: Office for National Statistics . ^ Rogers  Simon (November 22  2012). \"What each job gets paid: find yours and see how it compares\" . The Guardian . Retrieved August 16  2013 . ^ Chin  Jean Lau  Women and leadership: transforming visions and diverse voices Wiley-Blackwell  2007  ISBN 1-4051-5582-5   ISBN 978-1-4051-5582-3 ^ a b Klenke  Karin  Women and Leadership: A Contextual Perspective   Springer Publishing Company  2004 ISBN 0-8261-9221-1   ISBN 978-0-8261-9221-9 ^ Best  Deborah L. (2001). \"Cross-Cultural Gender Roles\" .  In Worell  Judith (ed.). Encyclopedia of Women and Gender  Volume 1 . Academic Press. p. 281 . ISBN 0-12-227245-5 . ^ Eagly  Alice H.  Karau  Steven J. (2002). \"Role congruity theory of prejudice toward female leaders\". Psychological Review . 109 (3): 573–598. doi : 10.1037/0033-295X.109.3.573 . PMID 12088246 . ^ Heilman  Madeline E.  Wallen  Aaron S.  Fuchs  Daniella  Tamkins  Melinda M. (2004). \"Penalties for Success: Reactions to Women Who Succeed at Male Gender-Typed Tasks\" (PDF) . Journal of Applied Psychology . 89 (3): 416–427. doi : 10.1037/0021-9010.89.3.416 . PMID 15161402 . Archived from the original (PDF) on October 30  2011 . Retrieved July 23  2011 . ^ Rudman  Laurie A.  Glick  Peter (2001). \"Prescriptive Gender Stereotypes and Backlash Towards Agentic Women\" . Journal of Social Issues . 57 (4): 743–762. doi : 10.1111/0022-4537.00239 . hdl : 2027.42/146421 . ISBN 9781405100847 . ^ Heilman  Madeline E (2001). \"Description and Prescription: How Gender Stereotypes Prevent Women\\'s Ascent Up the Organizational Ladder\" . Journal of Social Issues . 57 (4): 657–674. doi : 10.1111/0022-4537.00234 . ISBN 9781405100847 . S2CID 144504496 . ^ Schein  Virginia E (2001). \"A Global Look at Psychological Barriers to Women\\'s Progress in Management\" . Journal of Social Issues . 57 (4): 675–688. doi : 10.1111/0022-4537.00235 . ISBN 9781405100847 . ^ Barbara Tedlock The woman in the shaman\\'s body: reclaiming the feminine in religion and medicine   Random House Digital  Inc.  2005 ^ Jean Clottes. \"Shamanism in Prehistory\" . Bradshaw foundation . Archived from the original on September 28  2011 . Retrieved March 11  2008 . ^ Karl J. Narr. \"Prehistoric religion\" . Britannica Online Encyclopedia 2008 . Archived from the original on April 14  2015 . Retrieved March 28  2008 . ^ Tedlock  Barbara. 2005. The Woman in the Shaman\\'s Body: Reclaiming the Feminine in Religion and Medicine. New York: Bantam. ^ Lee  Jung Yong (August 1973). \"Concerning the Origin and Formation of Korean Shamanism\". Numen . 20 (2): 135–159. doi : 10.1163/156852773x00321 . PMID 11615020 . ^ Oak  Sung-Deuk (2010). \"Healing and Exorcism: Christian Encounters with Shamanism in Early Modern Korea\". Asian Ethnology . 69 (1): 95–128. ^ Sacred Sanskrit words  p.111 ^ Osgood  Charles E (1973). \"From Yang and Yin to and or but\". Language . 49 (2): 380–412. doi : 10.2307/412460 . JSTOR 412460 . ^ a b McGrath  Alister E. (2010). Christian Theology: An Introduction (5th ed.). Wiley-Blackwell. pp. 197–199. ISBN 978-1-4443-3514-9 . ^ \"Catechism of the Catholic Church\" . Archived from the original on March 3  2013 . Retrieved February 12  2016 . ^ David Winston  The Wisdom of Solomon: a new translation with introduction and commentary  (New York  Doubleday  1979)  p. 194 ISBN 0-385-01644-1 ^ \"The Kabbalah Of Isaac Luria Glossary\" . Christ-centeredkabbalah.org. Archived from the original on January 28  2012 . Retrieved November 13  2011 . ^ a b Brown  Archie (2009). The Rise and Fall of Communism (1st U.S. ed.). New York: Ecco. p. 70 . ISBN 978-0061138799 . ^ Gilmartin  Christina K.  Hershatter  Gail  Rofel  Lisa  eds. (1994). Engendering China: Women  Culture  and the State . Cambridge (Mass.): Harvard University Press. p. 304. ISBN 0674253329 . ^ Lanzona  Vina A. (2009). Amazons of the Huk Rebellion: Gender  Sex  and Revolution in the Philippines (New Perspectives in Southeast Asian Studies) . University of Wisconsin Press. p. 182 . ISBN 978-0299230944 . ^ Strahan  Lachlan (1996). Australia\\'s China: Changing Perceptions from the 1930s to the 1990s . Cambridge [England]: Cambridge University Press. p. 242. ISBN 0521484979 . ^ Strahan  Lachlan (1996). Australia\\'s China: Changing Perceptions from the 1930s to the 1990s . Cambridge [England]: Cambridge University Press. pp. 234–240. ISBN 0521484979 . ^ Turner  Bryan S.  Yangwen  Zheng  eds. (2009). The Body in Asia . New York: Berghahn Books. p. 183. ISBN 978-1845455507 . ^ Fidelis  Malgorzata (2010). Women  Communism  and Industrialization in Postwar Poland (1. publ. ed.). Cambridge: Cambridge University Press. p. 113. ISBN 978-0521196871 . ^ a b Fawn  Rick  White  Stephen  eds. (2002). Russia after Communism (1 ed.). London: Cass. ISBN 0714652938 . ^ a b Drakulić  Slavenka (2003). How we Survived Communism and even Laughed (1. HarperPerennial ed.  repr. ed.). New York: HarperPerennial. ISBN 0060975407 . ^ Bren  Paulina  Neuburger  Mary  eds. (September 20  2012). Communism Unwrapped: Consumption in Cold War Eastern Europe . New York  NY: Oxford University Press. p. 230. ISBN 978-0199827671 . ^ Halpern  Diane F. and Fanny M. Cheung (2010). Women at the Top: Powerful Leaders Tell Us How to Combine Work and Family . Wiley-Blackwell. ISBN 978-1405171052 . ^ Elias  Ann (2015). Useless Beauty: Flowers and Australian Art . Cambridge Scholars Publishing. p. 45. ISBN 978-1-4438-8457-0 . On a global scale  flowers have not only defined femininity but the history of representations of flowers in art has underpinned differences in the sexual categories of masculine and feminine. ^ Beausoleil  Natalie (1994). \"Makeup in Everyday Life\".  In Sault  Nicole (ed.). Many Mirrors: Body Image and Social Relations . Rutgers University Press. p. 33. ISBN 978-0-8135-2080-3 . Among everyday appearance practices in contemporary Western society  \\'visible\\' makeup clearly marks the production of \\'womanhood\\' and \\'femininity\\': overall  women are the ones who wear makeup  men do not. ^ \"Why do gays fall for straights?\" The Advocate   February 17  1998  72 pages  No. 753  ISSN 0001-8996  Published by Here Publishing ^ Pezzote  Angelo Straight Acting: Gay Men  Masculinity and Finding True Love   Kensington Publishing Corp.  2008  ISBN 0-7582-1943-1   ISBN 978-0-7582-1943-5 ^ Hill  Darryl B (2006). \"Feminine\" Heterosexual Men: Subverting Heteropatriarchal Sexual Scripts?\". Journal of Men\\'s Studies . 14 (2): 145–59. doi : 10.3149/jms.1402.145 . S2CID 145293218 . ^ Taywaditep  Kittiwut Jod (2001). \"Marginalization Among the Marginalized: Gay Men\\'s Anti-Effeminacy Attitudes\". Journal of Homosexuality . 42 (1): 1–28. doi : 10.1300/j082v42n01_01 . PMID 11991561 . S2CID 9163739 . ^ Fellows  Will  A Passion to Preserve: Gay Men as Keepers of Culture   University of Wisconsin Press  2005  ISBN 0-299-19684-4   ISBN 978-0-299-19684-4 ^ cross-dress.\" The American Heritage Dictionary of the English Language  Fourth Edition. Houghton Mifflin Company  2004. ^ van den Wijngaard (1997)   p. 4. ^ Butler  J. (1990). Gender trouble: Feminism and the subversion of identity. New York  Routledge. ^ \"Sally Feldman – Heights of madness\" . New Humanist. May 7  2008 . Retrieved November 13  2011 . ^ Scanlon  Jennifer  Bad girls go everywhere: the life of Helen Gurley Brown  Oxford University Press US  2009  ISBN 0-19-534205-4   ISBN 978-0-19-534205-5 ^ Joanne Hollows  Rachel Moseley (February 17  2006). Feminism in popular culture. Berg Publishers. p. 84. ISBN 978-1-84520-223-1 . https://books.google.com/books ? ^ a b c d Serano  Julia (2007). Whipping Girl: A Transsexual Woman on Sexism and the Scapegoating of Femininity . Berkeley: Seal Press. ISBN 978-1580051545 . Until feminists work to empower femininity and pry it away from the insipid  inferior meanings that plague it – weakness  helplessness  fragility  passivity  frivolity  and artificiality – those meanings will continue to haunt every person who is female and/or feminine. ^ Rasmussen  Debbie (2007). \"Risk: Feminine Protection (interview with Julia Serano)\" . Bitch . Archived from the original on September 15  2013 . Retrieved 15 August 2013 . The rising visibility of trans  intersex  and genderqueer movements has led feminists—and  to a lesser extent  the rest of the world—to an increasing awareness that m and f are only the beginning of the story of gender identity. With the release of Whipping Girl: A Transsexual Woman on Sexism and the Scapegoating of Femininity  Julia Serano offers a perspective sorely needed  but up until now rarely heard: a transfeminine critique of both feminist and mainstream understandings of gender. External links [ edit ] Quotations related to Femininity at Wikiquote The dictionary definition of femininity at Wiktionary Media related to Femininity at Wikimedia Commons Links to related articles v t e Feminism History General Timeline First-wave Second-wave timeline Third-wave Fourth-wave Social Bicycling and feminism Feminist history Women\\'s history Timeline of women\\'s legal rights (other than voting) Women\\'s suffrage Timeline Australia Canada Japan Kuwait Majority-Muslim countries New Zealand Switzerland United Kingdom Wales United States Timeline African-American States of Utah Virginia Wyoming Movements and ideologies General Analytical Anarchist Anti-abortion Anti-fascist Atheist Carceral Conservative Cultural Cyber HCI Difference Eco Vegetarian Equality Ethnic/Racial Black Chicana Gypsy Indigenous Kurdish (Jineology) Native American White Eugenic Fat Global Hip-hop Activism Individualist Labor Lesbian Liberal Equity Lipstick Materialist Maternal Neo New Post Postcolonial Postmodern Post-structural French Radical Separatism Sex-positive Social Socialist Marxist Standpoint State Trans Transnational Victim Womanism Africana Women\\'s liberation Religious Buddhist Christian Asian Womanist Islamic Jewish Mizrahi Orthodox Neopagan Dianic Wicca Reclaiming Mormon Sikh Concepts Feminist literature Children\\'s literature Embedded feminism Female education Femicide Feminism and equality Feminism and media Feminist businesses Feminist effects on society Feminism in culture Feminist movement Art movement Feminist stripper Feminist theory Gender equality Girl power Language reform Male gaze Matriarchal religion Men in feminism Misogyny Networked feminism Opposition to feminism Political lesbianism Pro-feminism Protofeminism Purplewashing Reproductive justice Second-generation gender bias Sexual harassment Social housekeeping Straw Transgender and transsexual Triple oppression Views on BDSM Views on pornography Views on prostitution War on women Women\\'s health Women\\'s rights Theory Gender studies Gender mainstreaming Gynocentrism Matriarchy Women\\'s studies Men\\'s studies Kyriarchy Patriarchy Écriture féminine Economics Post-structuralist discourse analysis Method Oedipus complex Political theory Theology Thealogy Womanist Sexology Sociology Rhetoric Legal theory Art Art criticism Literary criticism Film theory Biology Political ecology Architecture Anthropology Archaeology Criminology Pathways perspective Geography Pedagogy Philosophy Aesthetics Empiricism Epistemology Ethics Justice ethics Existentialism Metaphysics Science Pornography Psychology Therapy Seriality International relations Existentialism Revisionist mythology Technoscience Science fiction Composition studies By country Africa South Africa Australia Bangladesh Canada China Denmark Egypt France Germany Greece Hong Kong India Indonesia Republic of Ireland Israel Italy Japan Latin America Argentina Brazil Chile Haiti Mexico Malaysia Nepal Netherlands New Zealand Norway Pakistan Poland Russia Syria South Korea Sweden Taiwan Thailand Trinidad and Tobago Vietnam Ukraine United Kingdom United States Lists People Art critics Ecofeminist authors Economists Jewish Muslim Philosophers Poets Rhetoricians Suffragists and suffragettes Women\\'s rights activists Other Conservative feminisms Literature American Comic books Parties Women\\'s studies journals Feminism portal Category Index Authority control International FAST National France BnF data Germany Israel United States Czech Republic Retrieved from \" https://en.wikipedia.org/w/index.php?title=Femininity&oldid=1138922639 \" Category : Femininity Hidden categories: Articles with short description Short description is different from Wikidata Use mdy dates from November 2011 Wikipedia articles needing page number citations from October 2019 All articles with unsourced statements Articles with unsourced statements from February 2022 Pages using sidebar with the child parameter Wikipedia neutral point of view disputes from July 2022 All Wikipedia neutral point of view disputes Commons category link from Wikidata Articles with FAST identifiers Articles with BNF identifiers Articles with BNFdata identifiers Articles with GND identifiers Articles with J9U identifiers Articles with LCCN identifiers Articles with NKC identifiers This page was last edited on 12 February 2023  at 11:23 (UTC) . Text is available under the Creative Commons Attribution-ShareAlike License 3.0   additional terms may apply.  By using this site  you agree to the Terms of Use and Privacy Policy . Wikipedia® is a registered trademark of the Wikimedia Foundation  Inc.   a non-profit organization. Privacy policy About Wikipedia Disclaimers Contact Wikipedia Mobile view Developers Statistics Cookie statement'"
            ],
            "application/vnd.google.colaboratory.intrinsic+json": {
              "type": "string"
            }
          },
          "metadata": {},
          "execution_count": 57
        }
      ]
    },
    {
      "cell_type": "code",
      "source": [
        "# def parse_gender(url):\n",
        "\n",
        "#   html = urllib.request.urlopen(url)\n",
        "#   htmlParse = BeautifulSoup(html, 'html.parser')\n",
        "\n",
        "#   w = htmlParse.get_text('\\n', strip=True)\n",
        "#   w = re.sub(r'[;,\\s]',' ', w)\n",
        "\n",
        "\n",
        "#   sentences = [\n",
        "#       [word.lower for word in nltk.word_tokenize(sentence)]\n",
        "#       for sentence in nltk.sent_tokenize(url)\n",
        "#   ]\n",
        "\n",
        "#   sents, words = count_gender(sentences)\n",
        "#   total = sum(words.values())\n",
        "\n",
        "#   for gender, count in words.items():\n",
        "#     pcent = (count / total) * 100\n",
        "#     nsents = sents[gender]\n",
        "\n",
        "#     print(\n",
        "#         \"{3.3f}% {} ({} sentences)\".format(pcent, gender, nsents)\n",
        "#     )"
      ],
      "metadata": {
        "id": "39yLjOpOSsfX"
      },
      "execution_count": 34,
      "outputs": []
    },
    {
      "cell_type": "code",
      "source": [
        "parse_gender(d1)"
      ],
      "metadata": {
        "colab": {
          "base_uri": "https://localhost:8080/"
        },
        "id": "dpFijQXrRn8I",
        "outputId": "8ce9e535-e4fd-4df1-de5a-92a2f06987a4"
      },
      "execution_count": 58,
      "outputs": [
        {
          "output_type": "stream",
          "name": "stdout",
          "text": [
            "49.85584843492587 unknown (537 sentences)\n",
            "7.567957166392092 male (24 sentences)\n",
            "22.487644151565075 female (76 sentences)\n",
            "20.088550247116967 both (26 sentences)\n"
          ]
        }
      ]
    },
    {
      "cell_type": "code",
      "source": [],
      "metadata": {
        "id": "XyNXGW3lvQFs"
      },
      "execution_count": null,
      "outputs": []
    }
  ]
}