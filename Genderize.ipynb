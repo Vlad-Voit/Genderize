{
  "nbformat": 4,
  "nbformat_minor": 0,
  "metadata": {
    "colab": {
      "provenance": [],
      "authorship_tag": "ABX9TyNTTBse95ncFWKs+GwpggzB"
    },
    "kernelspec": {
      "name": "python3",
      "display_name": "Python 3"
    },
    "language_info": {
      "name": "python"
    }
  },
  "cells": [
    {
      "cell_type": "code",
      "source": [
        "!pip install pymorphy2\n"
      ],
      "metadata": {
        "colab": {
          "base_uri": "https://localhost:8080/"
        },
        "id": "xPy1d3Jvuu_f",
        "outputId": "fbab610a-893c-48e5-96fb-2614a54ddd14"
      },
      "execution_count": 10,
      "outputs": [
        {
          "output_type": "stream",
          "name": "stdout",
          "text": [
            "Looking in indexes: https://pypi.org/simple, https://us-python.pkg.dev/colab-wheels/public/simple/\n",
            "Collecting pymorphy2\n",
            "  Downloading pymorphy2-0.9.1-py3-none-any.whl (55 kB)\n",
            "\u001b[?25l     \u001b[90m━━━━━━━━━━━━━━━━━━━━━━━━━━━━━━━━━━━━━━━━\u001b[0m \u001b[32m0.0/55.5 KB\u001b[0m \u001b[31m?\u001b[0m eta \u001b[36m-:--:--\u001b[0m\r\u001b[2K     \u001b[90m━━━━━━━━━━━━━━━━━━━━━━━━━━━━━━━━━━━━━━━━\u001b[0m \u001b[32m55.5/55.5 KB\u001b[0m \u001b[31m2.9 MB/s\u001b[0m eta \u001b[36m0:00:00\u001b[0m\n",
            "\u001b[?25hCollecting docopt>=0.6\n",
            "  Downloading docopt-0.6.2.tar.gz (25 kB)\n",
            "  Preparing metadata (setup.py) ... \u001b[?25l\u001b[?25hdone\n",
            "Collecting pymorphy2-dicts-ru<3.0,>=2.4\n",
            "  Downloading pymorphy2_dicts_ru-2.4.417127.4579844-py2.py3-none-any.whl (8.2 MB)\n",
            "\u001b[2K     \u001b[90m━━━━━━━━━━━━━━━━━━━━━━━━━━━━━━━━━━━━━━━━\u001b[0m \u001b[32m8.2/8.2 MB\u001b[0m \u001b[31m71.2 MB/s\u001b[0m eta \u001b[36m0:00:00\u001b[0m\n",
            "\u001b[?25hCollecting dawg-python>=0.7.1\n",
            "  Downloading DAWG_Python-0.7.2-py2.py3-none-any.whl (11 kB)\n",
            "Building wheels for collected packages: docopt\n",
            "  Building wheel for docopt (setup.py) ... \u001b[?25l\u001b[?25hdone\n",
            "  Created wheel for docopt: filename=docopt-0.6.2-py2.py3-none-any.whl size=13721 sha256=9acebebb71f10fd74845d8299c7893690dcd112e4c8079decc335bfc8e715f89\n",
            "  Stored in directory: /root/.cache/pip/wheels/70/4a/46/1309fc853b8d395e60bafaf1b6df7845bdd82c95fd59dd8d2b\n",
            "Successfully built docopt\n",
            "Installing collected packages: pymorphy2-dicts-ru, docopt, dawg-python, pymorphy2\n",
            "Successfully installed dawg-python-0.7.2 docopt-0.6.2 pymorphy2-0.9.1 pymorphy2-dicts-ru-2.4.417127.4579844\n"
          ]
        }
      ]
    },
    {
      "cell_type": "code",
      "source": [
        "from bs4 import BeautifulSoup \n",
        "import requests\n",
        "import urllib.request\n",
        "import re\n",
        "import numpy as np\n",
        "import pymorphy2\n",
        "from collections import Counter\n",
        "import nltk \n",
        "nltk.download(\"punkt\")"
      ],
      "metadata": {
        "id": "17KDhmN31C_j"
      },
      "execution_count": 11,
      "outputs": []
    },
    {
      "cell_type": "code",
      "execution_count": 1,
      "metadata": {
        "id": "13bwJM3Lyj7m"
      },
      "outputs": [],
      "source": [
        "MALE = 'male'\n",
        "FEMALE = 'female'\n",
        "BOTH = 'both'\n",
        "UNKNOWN = 'unknown' "
      ]
    },
    {
      "cell_type": "code",
      "source": [
        "MALE_WORDS = set(['guy','spokesman','chairman',\"men's\",'men','him',\"he's\",'his',\n",
        "'boy','boyfriend','boyfriends','boys','brother','brothers','dad',\n",
        "'dads','dude','father','fathers','fiance','gentleman','gentlemen',\n",
        "'god','grandfather','grandpa','grandson','groom','he','himself',\n",
        "'husband','husbands','king','male','man','mr','nephew','nephews',\n",
        "'priest','prince','son','sons','uncle','uncles','waiter','widower',\n",
        "'widowers'])"
      ],
      "metadata": {
        "id": "z6B9yLujzF0D"
      },
      "execution_count": 2,
      "outputs": []
    },
    {
      "cell_type": "code",
      "source": [
        "FEMALE_WORDS = set(['heroine','spokeswoman','chairwoman',\"women's\",'actress','women',\n",
        "\"she's\",'her','aunt','aunts','bride','daughter','daughters','female', 'fiancee','girl','girlfriend','girlfriends','girls','goddess',\n",
        "'granddaughter','grandma','grandmother','herself','ladies',\n",
        "'lady','mom','moms','mother','mothers','mrs','ms','niece','nieces',\n",
        "'priestess','princess','queens','she','sister','sisters','waitress',\n",
        "'widow','widows','wife','wives','woman'])"
      ],
      "metadata": {
        "id": "oaAlyINIzwNf"
      },
      "execution_count": 3,
      "outputs": []
    },
    {
      "cell_type": "code",
      "source": [
        "def genderize(words):\n",
        "\n",
        "  mwlen = len(MALE_WORDS.intersection(words))\n",
        "  fwlen = len(FEMALE_WORDS.intersection(words))\n",
        "\n",
        "  if mwlen > 0 and fwlen == 0:\n",
        "    return MALE\n",
        "  elif fwlen > 0 and mwlen == 0:\n",
        "    return FEMALE\n",
        "  elif mwlen > 0 and fwlen > 0:\n",
        "    return BOTH\n",
        "  else:\n",
        "    return UNKNOWN"
      ],
      "metadata": {
        "id": "xNCt2IAf0KcX"
      },
      "execution_count": 4,
      "outputs": []
    },
    {
      "cell_type": "code",
      "source": [
        "def count_gender(sentences):\n",
        "\n",
        "  sents = Counter()\n",
        "  words = Counter()\n",
        "\n",
        "  for sentence in sentences:\n",
        "    gender = genderize(sentence)\n",
        "    sents[gender] += 1\n",
        "    words[gender] += len(sentence)\n",
        "\n",
        "  return sents, words"
      ],
      "metadata": {
        "id": "QWRgOP_v3jAD"
      },
      "execution_count": 6,
      "outputs": []
    },
    {
      "cell_type": "code",
      "source": [
        "def parse_gender(d1):\n",
        "\n",
        "  sentences = [\n",
        "      [word.lower() for word in nltk.word_tokenize(sentence)]\n",
        "      for sentence in nltk.sent_tokenize(d1)\n",
        "  ]\n",
        "\n",
        "  sents, words = count_gender(sentences)\n",
        "  total = sum(words.values())\n",
        "\n",
        "  for gender, count in words.items():\n",
        "    pcent = (count / total) * 100\n",
        "    nsents = sents[gender]\n",
        "\n",
        "    print(\n",
        "        \"{} {} ({} sentences)\".format(pcent, gender, nsents)\n",
        "    )"
      ],
      "metadata": {
        "id": "BF9f_qvRHYor"
      },
      "execution_count": 38,
      "outputs": []
    },
    {
      "cell_type": "code",
      "source": [
        "morph = pymorphy2.MorphAnalyzer()"
      ],
      "metadata": {
        "id": "BGBAtcZt0JhV"
      },
      "execution_count": 12,
      "outputs": []
    },
    {
      "cell_type": "code",
      "source": [
        "def get_html_statistic(url):\n",
        "\n",
        "  html = urllib.request.urlopen(url)\n",
        "  htmlParse = BeautifulSoup(html, 'html.parser')\n",
        "\n",
        "  n = 0\n",
        "  d = dict()\n",
        "\n",
        "  d = htmlParse.get_text('\\n', strip = 'True')\n",
        "\n",
        "  return d"
      ],
      "metadata": {
        "id": "XG5e55KL-xVk"
      },
      "execution_count": 13,
      "outputs": []
    },
    {
      "cell_type": "code",
      "source": [
        "d1 = get_html_statistic('https://en.wikipedia.org/wiki/Femininity')"
      ],
      "metadata": {
        "id": "MGgPw7amQP77"
      },
      "execution_count": null,
      "outputs": []
    },
    {
      "cell_type": "code",
      "source": [
        "parse_gender(d1)"
      ],
      "metadata": {
        "colab": {
          "base_uri": "https://localhost:8080/"
        },
        "id": "dpFijQXrRn8I",
        "outputId": "8ce9e535-e4fd-4df1-de5a-92a2f06987a4"
      },
      "execution_count": 58,
      "outputs": [
        {
          "output_type": "stream",
          "name": "stdout",
          "text": [
            "49.85584843492587 unknown (537 sentences)\n",
            "7.567957166392092 male (24 sentences)\n",
            "22.487644151565075 female (76 sentences)\n",
            "20.088550247116967 both (26 sentences)\n"
          ]
        }
      ]
    },
    {
      "cell_type": "code",
      "source": [],
      "metadata": {
        "id": "XyNXGW3lvQFs"
      },
      "execution_count": null,
      "outputs": []
    }
  ]
}